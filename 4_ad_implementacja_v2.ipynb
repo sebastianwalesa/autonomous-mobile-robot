{
 "cells": [
  {
   "cell_type": "code",
   "execution_count": 1,
   "id": "33d6265a",
   "metadata": {},
   "outputs": [
    {
     "data": {
      "text/plain": [
       "<All keys matched successfully>"
      ]
     },
     "execution_count": 1,
     "metadata": {},
     "output_type": "execute_result"
    }
   ],
   "source": [
    "import cv2\n",
    "import torch\n",
    "from torch2trt import TRTModule\n",
    "\n",
    "model_trt = TRTModule()\n",
    "model_trt.load_state_dict(torch.load('trt_steering_model_sala230_sw_100.pth'))"
   ]
  },
  {
   "cell_type": "code",
   "execution_count": 2,
   "id": "85e8f232",
   "metadata": {},
   "outputs": [],
   "source": [
    "from jetracer.nvidia_racecar import NvidiaRacecar\n",
    "\n",
    "car = NvidiaRacecar()"
   ]
  },
  {
   "cell_type": "code",
   "execution_count": 3,
   "id": "7e28b01a",
   "metadata": {},
   "outputs": [],
   "source": [
    "from jetcam.csi_camera import CSICamera\n",
    "\n",
    "camera = CSICamera(width=224, height=224, capture_fps=30)"
   ]
  },
  {
   "cell_type": "code",
   "execution_count": 4,
   "id": "b55e5b47",
   "metadata": {},
   "outputs": [],
   "source": [
    "import ipywidgets\n",
    "import threading\n",
    "\n",
    "state_widget = ipywidgets.ToggleButtons(options=['On', 'Off'], description='Camera', value='On')\n",
    "prediction_widget = ipywidgets.Image(format='jpeg', width=camera.width, height=camera.height)\n",
    "\n",
    "live_execution_widget = ipywidgets.VBox([\n",
    "    prediction_widget,\n",
    "    state_widget\n",
    "])"
   ]
  },
  {
   "cell_type": "code",
   "execution_count": 5,
   "id": "e092c290",
   "metadata": {},
   "outputs": [],
   "source": [
    "import traitlets\n",
    "from IPython.display import display\n",
    "from ipywidgets import Layout, Button, Box\n",
    "import ipywidgets.widgets as widgets\n",
    "\n",
    "network_output_slider = widgets.FloatSlider(description='Network Output', min=-1.0, max=1.0, value=0, step=0.01, orientation='horizontal', disabled=False, layout={'width': '400px'})\n",
    "steering_gain_slider  = widgets.FloatSlider(description='Steering Gain', min=-1.0, max=1.0, value=-0.7, step=0.01, orientation='horizontal', layout={'width': '300px'})\n",
    "steering_bias_slider  = widgets.FloatSlider(description='Steering Bias', min=-0.5, max=0.5, value=0.0, step=0.01, orientation='horizontal', layout={'width': '300px'})\n",
    "steering_value_slider = widgets.FloatSlider(description='Steering', min=-1.0, max=1.0, value=0, step=0.01, orientation='horizontal', disabled=False, layout={'width': '400px'})\n",
    "throttle_slider = widgets.FloatSlider(description='Throttle', min=-1.0, max=1.0, value=0.15, step=0.01, orientation='vertical')\n",
    "\n",
    "\n",
    "steering_gain_link   = traitlets.link((steering_gain_slider, 'value'), (car, 'steering_gain'))\n",
    "steering_offset_link = traitlets.link((steering_bias_slider, 'value'), (car, 'steering_offset'))\n",
    "#steering_value_link  = traitlets.link((steering_value_slider, 'value'), (car, 'steering'))\n",
    "throttle_slider_link = traitlets.link((throttle_slider, 'value'), (car, 'throttle'))\n"
   ]
  },
  {
   "cell_type": "code",
   "execution_count": 6,
   "id": "92acd74e",
   "metadata": {},
   "outputs": [],
   "source": [
    "from utils import preprocess\n",
    "from jetcam.utils import bgr8_to_jpeg\n",
    "\n",
    "def update(change):\n",
    "    global blocked_slider, robot\n",
    "    new_image = change['new'] \n",
    "    \n",
    "    image = preprocess(new_image).half()\n",
    "    output = model_trt(image).detach().cpu().numpy().flatten()\n",
    "    x = float(output[0])\n",
    "    y = float(output[0])\n",
    "    \n",
    "    network_output_slider.value = x\n",
    "    steering = x * steering_gain_slider.value + steering_bias_slider.value\n",
    "    if(steering<-1.0):\n",
    "        steering_value_slider.value = -1.0\n",
    "    elif(steering>1.0):\n",
    "        steering_value_slider.value = 1.0\n",
    "    else:\n",
    "        steering_value_slider.value = steering \n",
    "    car.steering = x\n",
    "    \n",
    "    if(state_widget.value == 'On'):\n",
    "        x = int(camera.width * (x / 2.0 + 0.5))\n",
    "        y = int(camera.height * (y / 2.0 + 0.5))  \n",
    "        prediction = new_image.copy()\n",
    "        prediction = cv2.circle(prediction, (x, y), 8, (255, 0, 0), 3)\n",
    "        prediction_widget.value = bgr8_to_jpeg(prediction)\n",
    "        \n",
    "update({'new': camera.value}) "
   ]
  },
  {
   "cell_type": "code",
   "execution_count": 7,
   "id": "231f7b5d",
   "metadata": {},
   "outputs": [
    {
     "data": {
      "application/vnd.jupyter.widget-view+json": {
       "model_id": "dceb37c1bbae438a9b399759ccf7f180",
       "version_major": 2,
       "version_minor": 0
      },
      "text/plain": [
       "HBox(children=(VBox(children=(FloatSlider(value=-0.206298828125, description='Network Output', layout=Layout(w…"
      ]
     },
     "metadata": {},
     "output_type": "display_data"
    }
   ],
   "source": [
    "camera.running = True\n",
    "camera.observe(update, names='value') \n",
    "\n",
    "display(\n",
    "    widgets.HBox(\n",
    "        [widgets.VBox([network_output_slider,\n",
    "                       widgets.Label(value=\"X\"),\n",
    "                       steering_gain_slider,\n",
    "                       widgets.Label(value=\"+\"),\n",
    "                       steering_bias_slider,\n",
    "                       widgets.Label(value=\"||\"), \n",
    "                       steering_value_slider], layout=Layout(\n",
    "                                                    align_items='center'\n",
    "                                                        )\n",
    "                     ), \n",
    "         live_execution_widget,\n",
    "         throttle_slider]\n",
    "    )\n",
    ")"
   ]
  },
  {
   "cell_type": "code",
   "execution_count": null,
   "id": "b3b898dd",
   "metadata": {},
   "outputs": [],
   "source": [
    "camera.running = False"
   ]
  }
 ],
 "metadata": {
  "kernelspec": {
   "display_name": "Python 3",
   "language": "python",
   "name": "python3"
  },
  "language_info": {
   "codemirror_mode": {
    "name": "ipython",
    "version": 3
   },
   "file_extension": ".py",
   "mimetype": "text/x-python",
   "name": "python",
   "nbconvert_exporter": "python",
   "pygments_lexer": "ipython3",
   "version": "3.6.9"
  }
 },
 "nbformat": 4,
 "nbformat_minor": 5
}
