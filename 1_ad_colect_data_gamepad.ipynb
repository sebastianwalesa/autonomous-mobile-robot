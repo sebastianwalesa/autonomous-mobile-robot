{
 "cells": [
  {
   "cell_type": "code",
   "execution_count": 1,
   "id": "0d0c0e13",
   "metadata": {},
   "outputs": [],
   "source": [
    "# IPython - biblioteka do wyświtlania podglądu oraz widżetów\n",
    "import traitlets\n",
    "import ipywidgets\n",
    "from IPython.display import display\n",
    "\n",
    "# Interfejs kamery.ipynb_checkpoints/i silników - JetRacer\n",
    "from jetcam.utils import bgr8_to_jpeg\n",
    "from jetcam.csi_camera import CSICamera\n",
    "from jetracer.nvidia_racecar import NvidiaRacecar\n",
    "\n",
    "# Podstawowe biblioteki Python do przetwarzania obrazów\n",
    "from uuid import uuid1\n",
    "import os\n",
    "import json\n",
    "import glob\n",
    "import datetime\n",
    "import numpy as np\n",
    "import cv2\n",
    "import time"
   ]
  },
  {
   "cell_type": "code",
   "execution_count": 2,
   "id": "b06845d6",
   "metadata": {},
   "outputs": [
    {
     "data": {
      "text/plain": [
       "<traitlets.traitlets.directional_link at 0x7f885103c8>"
      ]
     },
     "execution_count": 2,
     "metadata": {},
     "output_type": "execute_result"
    }
   ],
   "source": [
    "#tworzenie wykorzystywanych obiektów\n",
    "camera = CSICamera(width=224, height=224, capture_device=0, capture_fps = 30)\n",
    "car = NvidiaRacecar()\n",
    "controller = ipywidgets.Controller(index=0)\n",
    "\n",
    "#parametryzacja widżetów\n",
    "widget_width = camera.width\n",
    "widget_height = camera.height\n",
    "\n",
    "image_widget = ipywidgets.Image(format='jpeg', width=widget_width, height=widget_height)\n",
    "target_widget = ipywidgets.Image(format='jpeg', width=widget_width, height=widget_height)\n",
    "\n",
    "x_slider = ipywidgets.FloatSlider(min=-1.0, max=1.0, step=0.001, description='x')\n",
    "y_slider = ipywidgets.FloatSlider(min=-1.0, max=1.0, step=0.001, description='y')\n",
    "\n",
    "def display_xy(camera_image):\n",
    "    image = np.copy(camera_image)\n",
    "    x = x_slider.value\n",
    "    y = y_slider.value\n",
    "    x = int(x * widget_width / 2 + widget_width / 2)\n",
    "    y = int(y * widget_height / 2 + widget_height / 2)\n",
    "    image = cv2.circle(image, (x, y), 8, (0, 255, 0), 3)\n",
    "    image = cv2.circle(image, (int(widget_width / 2), widget_height), 8, (0, 0,255), 3)\n",
    "    image = cv2.line(image, (x,y), (int(widget_width / 2), widget_height), (255,0,0), 3)\n",
    "    jpeg_image = bgr8_to_jpeg(image)\n",
    "    return jpeg_image\n",
    "\n",
    "time.sleep(1)\n",
    "traitlets.dlink((camera, 'value'), (image_widget, 'value'), transform=bgr8_to_jpeg)\n",
    "traitlets.dlink((camera, 'value'), (target_widget, 'value'), transform=display_xy)\n"
   ]
  },
  {
   "cell_type": "code",
   "execution_count": 4,
   "id": "6131dfc6",
   "metadata": {},
   "outputs": [],
   "source": [
    "# zaprogramowanie kontrolera\n",
    "traitlets.dlink((controller.axes[2], 'value'), (x_slider, 'value'), transform=lambda x: x_slider.value+x*0.1)\n",
    "traitlets.dlink((controller.axes[3], 'value'), (y_slider, 'value'), transform=lambda x: y_slider.value+x*0.1)\n",
    "\n",
    "left_right = traitlets.dlink((controller.axes[0], 'value'), (car, 'steering'), transform=lambda x: -x)\n",
    "forward = traitlets.dlink((controller.buttons[7], 'value'), (car, 'throttle'), transform=lambda x: -x)\n",
    "backward = traitlets.dlink((controller.buttons[6], 'value'), (car, 'throttle'), transform=lambda x: x)"
   ]
  },
  {
   "cell_type": "code",
   "execution_count": 5,
   "id": "f81dfc9e",
   "metadata": {},
   "outputs": [],
   "source": [
    "#tworzenie zbioru zdjęć z przypisanymi parametrami\n",
    "DATASET_DIR = 'ad_dataset_sala230_as'\n",
    "\n",
    "try:\n",
    "    os.makedirs(DATASET_DIR)\n",
    "except FileExistsError:\n",
    "    print('Directories not created because they already exist')\n",
    "\n",
    "count_widget = ipywidgets.IntText(description='count', value=len(glob.glob(os.path.join(DATASET_DIR, '*.jpg'))))\n",
    "\n",
    "def xy_uuid(x, y):\n",
    "    return 'xy_%03d_%03d_%s' % (x*widget_width/2+widget_width/2, y*widget_height/2+widget_height/2, uuid1())\n",
    "\n",
    "def save_snapshot(change):\n",
    "    if change['new']:\n",
    "        uuid = xy_uuid(x_slider.value, y_slider.value)\n",
    "        image_path = os.path.join(DATASET_DIR, uuid + '.jpg')\n",
    "        with open(image_path, 'wb') as f:\n",
    "            f.write(image_widget.value)\n",
    "        count_widget.value = len(glob.glob(os.path.join(DATASET_DIR, '*.jpg')))\n",
    "        \n",
    "# camera_widget.on_msg(save_snapshot)        \n",
    "\n",
    "controller.buttons[0].observe(save_snapshot, names='value')"
   ]
  },
  {
   "cell_type": "code",
   "execution_count": 6,
   "id": "df8dd0b3",
   "metadata": {},
   "outputs": [
    {
     "data": {
      "application/vnd.jupyter.widget-view+json": {
       "model_id": "cfc0addd226d4d749322e2c4237a9a94",
       "version_major": 2,
       "version_minor": 0
      },
      "text/plain": [
       "HBox(children=(Image(value=b'\\xff\\xd8\\xff\\xe0\\x00\\x10JFIF\\x00\\x01\\x01\\x00\\x00\\x01\\x00\\x01\\x00\\x00\\xff\\xdb\\x00C…"
      ]
     },
     "metadata": {},
     "output_type": "display_data"
    },
    {
     "data": {
      "application/vnd.jupyter.widget-view+json": {
       "model_id": "7d0e960c16bc471b96e1e6bedb71b7e9",
       "version_major": 2,
       "version_minor": 0
      },
      "text/plain": [
       "FloatSlider(value=-0.01284046769142151, description='x', max=1.0, min=-1.0, step=0.001)"
      ]
     },
     "metadata": {},
     "output_type": "display_data"
    },
    {
     "data": {
      "application/vnd.jupyter.widget-view+json": {
       "model_id": "fb20a6b344d64b32bc1948c7927b8045",
       "version_major": 2,
       "version_minor": 0
      },
      "text/plain": [
       "FloatSlider(value=0.005369651317596436, description='y', max=1.0, min=-1.0, step=0.001)"
      ]
     },
     "metadata": {},
     "output_type": "display_data"
    },
    {
     "data": {
      "application/vnd.jupyter.widget-view+json": {
       "model_id": "ec291602502d446da3e4f2da0999a425",
       "version_major": 2,
       "version_minor": 0
      },
      "text/plain": [
       "VBox(children=(IntText(value=0, description='count'), Controller(axes=(Axis(value=0.1257495880126953), Axis(va…"
      ]
     },
     "metadata": {},
     "output_type": "display_data"
    }
   ],
   "source": [
    "#wyświetlanie widżetów\n",
    "display(ipywidgets.HBox([image_widget, target_widget]), x_slider, y_slider)\n",
    "display(ipywidgets.VBox([\n",
    "    count_widget,\n",
    "    controller    \n",
    "]))\n",
    "\n",
    "camera.running = True"
   ]
  },
  {
   "cell_type": "code",
   "execution_count": null,
   "id": "fa04e691",
   "metadata": {},
   "outputs": [],
   "source": [
    "camera.running = False"
   ]
  }
 ],
 "metadata": {
  "kernelspec": {
   "display_name": "Python 3",
   "language": "python",
   "name": "python3"
  },
  "language_info": {
   "codemirror_mode": {
    "name": "ipython",
    "version": 3
   },
   "file_extension": ".py",
   "mimetype": "text/x-python",
   "name": "python",
   "nbconvert_exporter": "python",
   "pygments_lexer": "ipython3",
   "version": "3.6.9"
  }
 },
 "nbformat": 4,
 "nbformat_minor": 5
}
