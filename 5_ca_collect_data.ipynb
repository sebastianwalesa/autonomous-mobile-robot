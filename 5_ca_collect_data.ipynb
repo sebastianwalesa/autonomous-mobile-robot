{
 "cells": [
  {
   "cell_type": "code",
   "execution_count": 1,
   "id": "5575c688",
   "metadata": {},
   "outputs": [],
   "source": [
    "import traitlets\n",
    "import ipywidgets\n",
    "from IPython.display import display\n",
    "\n",
    "# Interfejs kamery.ipynb_checkpoints/i silników - JetRacer\n",
    "from jetcam.utils import bgr8_to_jpeg\n",
    "from jetcam.csi_camera import CSICamera\n",
    "from jetracer.nvidia_racecar import NvidiaRacecar\n",
    "\n",
    "# Podstawowe biblioteki Python do przetwarzania obrazów\n",
    "from uuid import uuid1\n",
    "import os\n",
    "import json\n",
    "import glob\n",
    "import datetime\n",
    "import numpy as np\n",
    "import cv2\n",
    "import time"
   ]
  },
  {
   "cell_type": "code",
   "execution_count": 2,
   "id": "1cf0b92b",
   "metadata": {},
   "outputs": [
    {
     "data": {
      "text/plain": [
       "<traitlets.traitlets.directional_link at 0x7f4d575f98>"
      ]
     },
     "execution_count": 2,
     "metadata": {},
     "output_type": "execute_result"
    }
   ],
   "source": [
    "#tworzenie wykorzystywanych obiektów\n",
    "camera = CSICamera(width=224, height=224, capture_device=0, capture_fps = 30)\n",
    "car = NvidiaRacecar()\n",
    "controller = ipywidgets.Controller(index=0)\n",
    "\n",
    "#parametryzacja widżetów\n",
    "widget_width = camera.width\n",
    "widget_height = camera.height\n",
    "\n",
    "image_widget = ipywidgets.Image(format='jpeg', width=widget_width, height=widget_height)\n",
    "\n",
    "time.sleep(1)\n",
    "\n",
    "traitlets.dlink((camera, 'value'), (image_widget, 'value'), transform=bgr8_to_jpeg)"
   ]
  },
  {
   "cell_type": "code",
   "execution_count": 4,
   "id": "5e9842fd",
   "metadata": {},
   "outputs": [],
   "source": [
    "# zaprogramowanie kontrolera\n",
    "left_right = traitlets.dlink((controller.axes[0], 'value'), (car, 'steering'), transform=lambda x: -x)\n",
    "forward = traitlets.dlink((controller.buttons[7], 'value'), (car, 'throttle'), transform=lambda x: -x)\n",
    "backward = traitlets.dlink((controller.buttons[6], 'value'), (car, 'throttle'), transform=lambda x: x)"
   ]
  },
  {
   "cell_type": "code",
   "execution_count": 5,
   "id": "e660fd86",
   "metadata": {},
   "outputs": [
    {
     "name": "stdout",
     "output_type": "stream",
     "text": [
      "Directories not created because they already exist\n"
     ]
    }
   ],
   "source": [
    "blocked_dir = 'ca_dataset/blocked'\n",
    "free_dir = 'ca_dataset/free'\n",
    "\n",
    "try:\n",
    "    os.makedirs(free_dir)\n",
    "    os.makedirs(blocked_dir)\n",
    "except FileExistsError:\n",
    "    print('Directories not created because they already exist')"
   ]
  },
  {
   "cell_type": "code",
   "execution_count": 6,
   "id": "dcddd271",
   "metadata": {},
   "outputs": [],
   "source": [
    "button_layout = ipywidgets.Layout(width='128px', height='64px')\n",
    "free_button = ipywidgets.Button(description='add free', button_style='success', layout=button_layout)\n",
    "blocked_button = ipywidgets.Button(description='add blocked', button_style='danger', layout=button_layout)\n",
    "free_count = ipywidgets.IntText(layout=button_layout, value=len(os.listdir(free_dir)))\n",
    "blocked_count = ipywidgets.IntText(layout=button_layout, value=len(os.listdir(blocked_dir)))"
   ]
  },
  {
   "cell_type": "code",
   "execution_count": 7,
   "id": "b6541ccb",
   "metadata": {},
   "outputs": [],
   "source": [
    "def save_snapshot(directory):\n",
    "    image_path = os.path.join(directory, str(uuid1()) + '.jpg')\n",
    "    with open(image_path, 'wb') as f:\n",
    "        f.write(image_widget.value)\n",
    "\n",
    "def save_free():\n",
    "    global free_dir, free_count\n",
    "    save_snapshot(free_dir)\n",
    "    free_count.value = len(os.listdir(free_dir))\n",
    "    \n",
    "def save_blocked():\n",
    "    global blocked_dir, blocked_count\n",
    "    save_snapshot(blocked_dir)\n",
    "    blocked_count.value = len(os.listdir(blocked_dir))\n",
    "    \n",
    "def save_free_gamepad(change):\n",
    "     if change['new']:\n",
    "        global free_dir, free_count\n",
    "        save_snapshot(free_dir)\n",
    "        free_count.value = len(os.listdir(free_dir))\n",
    "    \n",
    "def save_blocked_gamepad(change):\n",
    "     if change['new']:\n",
    "        global blocked_dir, blocked_count\n",
    "        save_snapshot(blocked_dir)\n",
    "        blocked_count.value = len(os.listdir(blocked_dir))\n",
    "    \n",
    "controller.buttons[0].observe(save_free_gamepad, names='value')\n",
    "controller.buttons[1].observe(save_blocked_gamepad, names='value')\n",
    "\n",
    "free_button.on_click(lambda x: save_free())\n",
    "blocked_button.on_click(lambda x: save_blocked())"
   ]
  },
  {
   "cell_type": "code",
   "execution_count": 8,
   "id": "91d47c46",
   "metadata": {},
   "outputs": [
    {
     "data": {
      "application/vnd.jupyter.widget-view+json": {
       "model_id": "4bef7dcafa5c4917b38e82eed985e308",
       "version_major": 2,
       "version_minor": 0
      },
      "text/plain": [
       "Image(value=b'\\xff\\xd8\\xff\\xe0\\x00\\x10JFIF\\x00\\x01\\x01\\x00\\x00\\x01\\x00\\x01\\x00\\x00\\xff\\xdb\\x00C\\x00\\x02\\x01\\x0…"
      ]
     },
     "metadata": {},
     "output_type": "display_data"
    },
    {
     "data": {
      "application/vnd.jupyter.widget-view+json": {
       "model_id": "9b66205a93e441b2bff218fc56e04ead",
       "version_major": 2,
       "version_minor": 0
      },
      "text/plain": [
       "HBox(children=(IntText(value=115, layout=Layout(height='64px', width='128px')), Button(button_style='success',…"
      ]
     },
     "metadata": {},
     "output_type": "display_data"
    },
    {
     "data": {
      "application/vnd.jupyter.widget-view+json": {
       "model_id": "2bc5f3a036f940eebdb19e13aec51ef1",
       "version_major": 2,
       "version_minor": 0
      },
      "text/plain": [
       "HBox(children=(IntText(value=150, layout=Layout(height='64px', width='128px')), Button(button_style='danger', …"
      ]
     },
     "metadata": {},
     "output_type": "display_data"
    },
    {
     "data": {
      "application/vnd.jupyter.widget-view+json": {
       "model_id": "f4ccea3a480b4b75b0f037aa320a488f",
       "version_major": 2,
       "version_minor": 0
      },
      "text/plain": [
       "Controller(axes=(Axis(value=0.09742879867553711), Axis(value=0.038498520851135254), Axis(value=-0.091782987117…"
      ]
     },
     "metadata": {},
     "output_type": "display_data"
    }
   ],
   "source": [
    "#wyświetlanie widżetów\n",
    "camera.running = True\n",
    "\n",
    "display(image_widget)\n",
    "display(ipywidgets.HBox([free_count, free_button]))\n",
    "display(ipywidgets.HBox([blocked_count, blocked_button]))\n",
    "display(controller)"
   ]
  },
  {
   "cell_type": "code",
   "execution_count": null,
   "id": "d0d1e7f0",
   "metadata": {},
   "outputs": [],
   "source": [
    "camera.running = False"
   ]
  }
 ],
 "metadata": {
  "kernelspec": {
   "display_name": "Python 3",
   "language": "python",
   "name": "python3"
  },
  "language_info": {
   "codemirror_mode": {
    "name": "ipython",
    "version": 3
   },
   "file_extension": ".py",
   "mimetype": "text/x-python",
   "name": "python",
   "nbconvert_exporter": "python",
   "pygments_lexer": "ipython3",
   "version": "3.6.9"
  }
 },
 "nbformat": 4,
 "nbformat_minor": 5
}
